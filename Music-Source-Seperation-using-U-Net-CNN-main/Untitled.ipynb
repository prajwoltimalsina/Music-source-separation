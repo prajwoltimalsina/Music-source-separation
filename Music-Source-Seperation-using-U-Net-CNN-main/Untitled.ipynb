{
 "cells": [
  {
   "cell_type": "code",
   "execution_count": 1,
   "id": "0f87c10a-128d-43ca-95e4-0d7e63edebc8",
   "metadata": {},
   "outputs": [],
   "source": [
    "import numpy as np\n",
    "import librosa\n",
    "from PIL import Image\n",
    "import soundfile as sf"
   ]
  },
  {
   "cell_type": "code",
   "execution_count": 2,
   "id": "7f780901-d70d-4eb8-8dc4-ca1ed9c4be3c",
   "metadata": {},
   "outputs": [],
   "source": [
    "img = Image.open('output.png')"
   ]
  },
  {
   "cell_type": "code",
   "execution_count": 3,
   "id": "c29024b8-f254-4557-a413-4cf95bde3296",
   "metadata": {},
   "outputs": [],
   "source": [
    "S_magnitude_normalized = np.array(img)"
   ]
  },
  {
   "cell_type": "code",
   "execution_count": 4,
   "id": "ec0bdefa-326c-4827-992e-055d01f65626",
   "metadata": {},
   "outputs": [
    {
     "data": {
      "text/plain": [
       "(1025, 2618)"
      ]
     },
     "execution_count": 4,
     "metadata": {},
     "output_type": "execute_result"
    }
   ],
   "source": [
    "S_magnitude_normalized.shape"
   ]
  },
  {
   "cell_type": "code",
   "execution_count": 12,
   "id": "3ae4e49b-f9d4-4e94-931a-9f9f623d5a20",
   "metadata": {},
   "outputs": [],
   "source": [
    "S_max = 1.0\n",
    "S_min = 0.0\n",
    "S_magnitude = (S_magnitude_normalized * (S_max - S_min)) + S_min"
   ]
  },
  {
   "cell_type": "code",
   "execution_count": 13,
   "id": "68f39194-0030-4496-b494-3cf0c05265bf",
   "metadata": {},
   "outputs": [
    {
     "data": {
      "text/plain": [
       "array([[2., 2., 2., ..., 1., 1., 1.],\n",
       "       [2., 2., 2., ..., 1., 1., 1.],\n",
       "       [2., 2., 2., ..., 1., 1., 1.],\n",
       "       ...,\n",
       "       [1., 1., 1., ..., 1., 1., 1.],\n",
       "       [1., 1., 1., ..., 1., 1., 1.],\n",
       "       [1., 1., 1., ..., 1., 1., 1.]])"
      ]
     },
     "execution_count": 13,
     "metadata": {},
     "output_type": "execute_result"
    }
   ],
   "source": [
    "S_magnitude"
   ]
  },
  {
   "cell_type": "code",
   "execution_count": 14,
   "id": "f0ac8041-e531-40fd-8378-2a23a9c1e554",
   "metadata": {},
   "outputs": [],
   "source": [
    "phase = np.exp(1j * np.random.uniform(low=-np.pi, high=np.pi, size=S_magnitude.shape))  # Random phase"
   ]
  },
  {
   "cell_type": "code",
   "execution_count": 15,
   "id": "5e7ae574-2b02-4006-b6dd-6dcdc13efa05",
   "metadata": {},
   "outputs": [],
   "source": [
    "S_complex = S_magnitude * phase  # Reconstructed complex spectrogram"
   ]
  },
  {
   "cell_type": "code",
   "execution_count": 19,
   "id": "8271db2a-e8fe-460c-ac0a-bc39a9165b74",
   "metadata": {},
   "outputs": [],
   "source": [
    "S_complex = librosa.core.magphase(S_magnitude)[0]\n",
    "y_reconstructed = librosa.istft(S_complex)"
   ]
  },
  {
   "cell_type": "code",
   "execution_count": 20,
   "id": "94bc9c8c-9108-437c-84a7-add359919f89",
   "metadata": {},
   "outputs": [
    {
     "data": {
      "text/plain": [
       "array([ 0.00019531, -0.0002048 ,  0.00021336, ...,  0.        ,\n",
       "        0.        ,  0.        ])"
      ]
     },
     "execution_count": 20,
     "metadata": {},
     "output_type": "execute_result"
    }
   ],
   "source": [
    "y_reconstructed"
   ]
  },
  {
   "cell_type": "code",
   "execution_count": 21,
   "id": "469d56ce-9e66-4c0c-a537-c0ce9868bc17",
   "metadata": {},
   "outputs": [],
   "source": [
    "sf.write('reconstructed_audio.wav', y_reconstructed, 8192)"
   ]
  }
 ],
 "metadata": {
  "kernelspec": {
   "display_name": "Python 3 (ipykernel)",
   "language": "python",
   "name": "python3"
  },
  "language_info": {
   "codemirror_mode": {
    "name": "ipython",
    "version": 3
   },
   "file_extension": ".py",
   "mimetype": "text/x-python",
   "name": "python",
   "nbconvert_exporter": "python",
   "pygments_lexer": "ipython3",
   "version": "3.9.21"
  }
 },
 "nbformat": 4,
 "nbformat_minor": 5
}
